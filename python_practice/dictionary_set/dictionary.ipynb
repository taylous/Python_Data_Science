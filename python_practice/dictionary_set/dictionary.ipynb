{
 "cells": [
  {
   "cell_type": "markdown",
   "id": "1acdac9f",
   "metadata": {},
   "source": [
    "# Dictionary\n",
    "\n",
    "> Hashable 하다? LifeCycle 동안 결코 변하지 않는 해시값을 갖고 있고, 다른 객체와 비교할 수 있으면, 객체를 hashable하다고 한다. 동일하다고 판단되는 객체는 반드시 해시값이 동일해야 한다.\n",
    "\n",
    "파이썬 2.7부터는 지능형 리스트(listcomp)와 제너레이터 표현식(genexps) 구문이 지능형 딕셔너리(dict comprehension)에도 적용된다. 지능형 딕셔너리(dictcomp)는 모든 반복형 객체에서 키-값 쌍을 생성함으로써 딕셔너리 객체를 만들 수 있다."
   ]
  },
  {
   "cell_type": "code",
   "execution_count": 5,
   "id": "4e84bd5d",
   "metadata": {},
   "outputs": [],
   "source": [
    "# Example\n",
    "DIAL_CODES = [(86, 'China'), (91, 'India'), (1, \"United States\"), (62, 'Indonesia'),\n",
    "              (55, 'Brazil'), (92, 'Pakistan'), (880, 'Bangladesh'), (234, 'Nigeria'),\n",
    "             (7, 'Russia'), (81, 'Japan')]"
   ]
  },
  {
   "cell_type": "code",
   "execution_count": 6,
   "id": "e7f31304",
   "metadata": {},
   "outputs": [],
   "source": [
    "country_code = {country: code for code, country in DIAL_CODES}"
   ]
  },
  {
   "cell_type": "code",
   "execution_count": 7,
   "id": "cbae8084",
   "metadata": {},
   "outputs": [
    {
     "data": {
      "text/plain": [
       "{'China': 86,\n",
       " 'India': 91,\n",
       " 'United States': 1,\n",
       " 'Indonesia': 62,\n",
       " 'Brazil': 55,\n",
       " 'Pakistan': 92,\n",
       " 'Bangladesh': 880,\n",
       " 'Nigeria': 234,\n",
       " 'Russia': 7,\n",
       " 'Japan': 81}"
      ]
     },
     "execution_count": 7,
     "metadata": {},
     "output_type": "execute_result"
    }
   ],
   "source": [
    "country_code"
   ]
  },
  {
   "cell_type": "code",
   "execution_count": 8,
   "id": "24fd4754",
   "metadata": {},
   "outputs": [
    {
     "data": {
      "text/plain": [
       "{86: 'CHINA',\n",
       " 91: 'INDIA',\n",
       " 1: 'UNITED STATES',\n",
       " 62: 'INDONESIA',\n",
       " 55: 'BRAZIL',\n",
       " 92: 'PAKISTAN',\n",
       " 880: 'BANGLADESH',\n",
       " 234: 'NIGERIA',\n",
       " 7: 'RUSSIA',\n",
       " 81: 'JAPAN'}"
      ]
     },
     "execution_count": 8,
     "metadata": {},
     "output_type": "execute_result"
    }
   ],
   "source": [
    "{code: country.upper() for country, code in country_code.items()}"
   ]
  },
  {
   "cell_type": "markdown",
   "id": "7917a62c",
   "metadata": {},
   "source": [
    "### 존재하지 않는 키를 setDefault()로 처리하기\n",
    "\n",
    "setDefault() method는 신비롭다. 이 method가 필요할 때는 똑같은 키를 여러 번 조회하지 않게 해줌으로써 속도를 엄청나게 향상시킨다."
   ]
  },
  {
   "cell_type": "code",
   "execution_count": null,
   "id": "def1cc47",
   "metadata": {},
   "outputs": [],
   "source": [
    "# word에 대한 value가 있으면 가져오고 아니면 빈 배열을 가져온다.\n",
    "# 그리고 location을 append 한다.\n",
    "# index.setdefault(word, []).append(location)"
   ]
  },
  {
   "cell_type": "markdown",
   "id": "e9073597",
   "metadata": {},
   "source": [
    "### 융통성 있게 키를 조회하는 매핑\n",
    "\n",
    "1. defaultdict: 존재하지 않는 키에 대한 또 다른 처리"
   ]
  },
  {
   "cell_type": "code",
   "execution_count": 9,
   "id": "bcf91dde",
   "metadata": {},
   "outputs": [],
   "source": [
    "# Example\n",
    "import collections"
   ]
  },
  {
   "cell_type": "code",
   "execution_count": 10,
   "id": "ea328ed3",
   "metadata": {},
   "outputs": [],
   "source": [
    "letter = 'taylous'\n",
    "letter_dict = collections.defaultdict(int)\n",
    "\n",
    "for alphabet in letter:\n",
    "    letter_dict[alphabet] += 1;"
   ]
  },
  {
   "cell_type": "code",
   "execution_count": 11,
   "id": "3f763075",
   "metadata": {},
   "outputs": [
    {
     "data": {
      "text/plain": [
       "defaultdict(int, {'t': 1, 'a': 1, 'y': 1, 'l': 1, 'o': 1, 'u': 1, 's': 1})"
      ]
     },
     "execution_count": 11,
     "metadata": {},
     "output_type": "execute_result"
    }
   ],
   "source": [
    "letter_dict"
   ]
  },
  {
   "cell_type": "markdown",
   "id": "f11968df",
   "metadata": {},
   "source": [
    "2. _ _ missing_ _ () method"
   ]
  },
  {
   "cell_type": "code",
   "execution_count": 14,
   "id": "a5d520b7",
   "metadata": {},
   "outputs": [],
   "source": [
    "# Example\n",
    "class StrKeyDict0(dict):\n",
    "    \n",
    "    def __missing__(self, key):\n",
    "        # isinstance(key, str) 코드가 필요한 이유?\n",
    "        # str(k) 키가 존재하지 않으면 무한히 재귀적으로 동작하기 때문이다.\n",
    "        # 마지막 줄의 self[str(key)]가 str 키를 이용해서 __getitem__() method를 호출하고,\n",
    "        # 이 때 키가 없으면 __missing__() method를 다시 호출하기 때문\n",
    "        if isinstance(key, str):\n",
    "            raise KeyError(key)\n",
    "        return self[str(key)]"
   ]
  },
  {
   "cell_type": "code",
   "execution_count": null,
   "id": "85e32cf9",
   "metadata": {},
   "outputs": [],
   "source": []
  }
 ],
 "metadata": {
  "kernelspec": {
   "display_name": "Python 3",
   "language": "python",
   "name": "python3"
  },
  "language_info": {
   "codemirror_mode": {
    "name": "ipython",
    "version": 3
   },
   "file_extension": ".py",
   "mimetype": "text/x-python",
   "name": "python",
   "nbconvert_exporter": "python",
   "pygments_lexer": "ipython3",
   "version": "3.8.8"
  }
 },
 "nbformat": 4,
 "nbformat_minor": 5
}
